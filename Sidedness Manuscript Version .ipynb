{
 "cells": [
  {
   "cell_type": "code",
   "execution_count": 1,
   "metadata": {},
   "outputs": [
    {
     "name": "stdout",
     "output_type": "stream",
     "text": [
      "Using TensorFlow backend.\n"
     ]
    }
   ],
   "source": [
    "##This notebook is built around using tensorflow as the backend for keras\n",
    "!KERAS_BACKEND=tensorflow python -c \"from keras import backend\""
   ]
  },
  {
   "cell_type": "code",
   "execution_count": 1,
   "metadata": {},
   "outputs": [],
   "source": [
    "import numpy as np\n",
    "from sklearn.model_selection import train_test_split\n",
    "import matplotlib.pyplot as plt\n",
    "import os, glob\n",
    "import pydicom as dicom\n",
    "import pylab as pl\n",
    "import sys\n",
    "import matplotlib.path as mplPath\n",
    "import matplotlib.pyplot as plt \n",
    "import matplotlib.image as mpimage\n",
    "import json\n",
    "import shutil\n",
    "import random\n",
    "import cv2\n",
    "from PIL import Image\n",
    "from skimage import exposure\n",
    "import skimage.morphology as morp\n",
    "from skimage.filters import rank\n",
    "from datetime import datetime\n",
    "\n",
    "import PIL.TiffImagePlugin as tiff\n",
    "\n",
    "import tensorflow as tf\n",
    "\n",
    "from tensorflow import keras\n",
    "from keras import applications\n",
    "from keras.preprocessing.image import ImageDataGenerator\n",
    "from keras import optimizers\n",
    "from keras.models import Sequential\n",
    "from keras.layers import Dropout, Flatten, Dense, GlobalAveragePooling2D\n",
    "from keras.models import Model\n",
    "from keras.optimizers import Adam\n",
    "\n",
    "from IPython.display import display\n",
    "\n",
    "import pandas as pd\n",
    "\n",
    "import sklearn\n",
    "\n",
    "import warnings\n",
    "warnings.filterwarnings(\"ignore\")\n"
   ]
  },
  {
   "cell_type": "code",
   "execution_count": 4,
   "metadata": {},
   "outputs": [],
   "source": [
    "# If more than one callback is being used, model.fit requires a predefined list of them.\n",
    "callbacks_list = (custom_early_stopping, reduce_lr) \n"
   ]
  },
  {
   "cell_type": "code",
   "execution_count": 11,
   "metadata": {},
   "outputs": [
    {
     "name": "stdout",
     "output_type": "stream",
     "text": [
      "Found 220 images belonging to 2 classes.\n",
      "Found 28 images belonging to 2 classes.\n"
     ]
    }
   ],
   "source": [
    "img_width, img_height = 440, 522 # Image dimensions for the DataGenerators to resize the images to\n",
    "\n",
    "train_data_dir = '/Sidedness/Training/' # Training data folder path\n",
    "validation_data_dir = '/Sidedness/Validation/' # Validation data folder path\n",
    "\n",
    "# nb_train_samples and nb_validation samples are the numbers of images in each respective folder\n",
    "# These should respectively match the numbers that print out below the cell after running it.\n",
    "nb_train_samples = 220 \n",
    "nb_validation_samples = 28 \n",
    "epochs = 30\n",
    "batch_size = 5\n",
    "\n",
    "train_datagen = ImageDataGenerator(\n",
    "    rescale=1./255, \n",
    "    shear_range=0.2, \n",
    "    zoom_range=0.2, \n",
    "    rotation_range=20, \n",
    "    width_shift_range=0.2, \n",
    "    height_shift_range=0.2, \n",
    "    brightness_range=[0.4,1.5])  \n",
    "\n",
    "val_datagen = ImageDataGenerator(rescale=1./255)\n",
    "\n",
    "train_generator = train_datagen.flow_from_directory(\n",
    "    train_data_dir, \n",
    "    target_size=(img_height, img_width), \n",
    "    batch_size=batch_size, \n",
    "    class_mode='binary')\n",
    "\n",
    "validation_generator = val_datagen.flow_from_directory(\n",
    "    validation_data_dir, \n",
    "    target_size=(img_height, img_width), \n",
    "    batch_size=batch_size, \n",
    "    class_mode='binary')"
   ]
  },
  {
   "cell_type": "code",
   "execution_count": 12,
   "metadata": {},
   "outputs": [],
   "source": [
    "# Preprocessing function for image color inversion augmentation\n",
    "def preprocess_color_inversion(image_pixels):\n",
    "    img_color_inversion = cv2.bitwise_not(image_pixels)\n",
    "    return img_color_inversion"
   ]
  },
  {
   "cell_type": "code",
   "execution_count": 13,
   "metadata": {},
   "outputs": [],
   "source": [
    "# Preprocessing function for Contrast Limited Adaptive Histogram Equalization (CLAHE)\n",
    "def preprocess_CLAHE(img):\n",
    "    img_ = exposure.equalize_adapthist(img)\n",
    "    return img_CLAHE"
   ]
  },
  {
   "cell_type": "code",
   "execution_count": 16,
   "metadata": {},
   "outputs": [],
   "source": [
    "# Load the InceptionV3 model. Exclude the top layer, allowing for transfer learning.\n",
    "base_model = applications.InceptionV3(weights='imagenet', include_top=False,)"
   ]
  },
  {
   "cell_type": "code",
   "execution_count": 17,
   "metadata": {},
   "outputs": [],
   "source": [
    "# Build the top of the new custom model on the Inception V3 model base.\n",
    "model_top = Sequential()\n",
    "model_top.add(GlobalAveragePooling2D(input_shape=base_model.output_shape[1:], \n",
    "data_format=None)), \n",
    "preproc_layer = Lambda(preprocess_color_inversion, name=\"lambda_layer\") \n",
    "preproc_layer2 = Lambda(preprocess_CLAHE, name=\"lambda_layer2\")\n",
    "model_top.add(Dense(256, activation='relu'))\n",
    "model_top.add(Dropout(0.5))\n",
    "model_top.add(Dense(1, activation='sigmoid')) \n",
    "model = Model(inputs=base_model.input, outputs=model_top(base_model.output))\n",
    "\n",
    "model.compile(optimizer=Adam(lr=0.0001, beta_1=0.9, beta_2=0.999, epsilon=1e-08,decay=0.0), \n",
    "loss='binary_crossentropy', metrics=['accuracy'])"
   ]
  },
  {
   "cell_type": "code",
   "execution_count": 18,
   "metadata": {
    "collapsed": true
   },
   "outputs": [
    {
     "name": "stdout",
     "output_type": "stream",
     "text": [
      "Epoch 1/30\n",
      "44/44 [==============================] - 1577s 35s/step - loss: 0.6958 - accuracy: 0.5900 - val_loss: 1.2002 - val_accuracy: 0.4800\n",
      "Epoch 2/30\n",
      "44/44 [==============================] - 1911s 43s/step - loss: 0.5148 - accuracy: 0.7933 - val_loss: 0.6230 - val_accuracy: 0.6400\n",
      "Epoch 3/30\n",
      "44/44 [==============================] - 1988s 45s/step - loss: 0.3663 - accuracy: 0.8633 - val_loss: 0.2855 - val_accuracy: 0.9200\n",
      "Epoch 4/30\n",
      "44/44 [==============================] - 1922s 44s/step - loss: 0.2542 - accuracy: 0.9035 - val_loss: 0.0395 - val_accuracy: 1.0000\n",
      "Epoch 5/30\n",
      "44/44 [==============================] - 1916s 44s/step - loss: 0.1782 - accuracy: 0.9213 - val_loss: 0.3044 - val_accuracy: 0.9600\n",
      "Epoch 6/30\n",
      "44/44 [==============================] - 1568s 35s/step - loss: 0.2901 - accuracy: 0.8862 - val_loss: 0.6718 - val_accuracy: 0.8400\n",
      "Epoch 7/30\n",
      "44/44 [==============================] - 1284s 29s/step - loss: 0.1676 - accuracy: 0.9410 - val_loss: 0.0095 - val_accuracy: 1.0000\n",
      "Epoch 8/30\n",
      "44/44 [==============================] - 1306s 30s/step - loss: 0.2408 - accuracy: 0.9288 - val_loss: 0.0774 - val_accuracy: 1.0000\n",
      "Epoch 9/30\n",
      "44/44 [==============================] - 1331s 30s/step - loss: 0.1629 - accuracy: 0.9738 - val_loss: 0.6945 - val_accuracy: 0.8400\n",
      "Epoch 10/30\n",
      "44/44 [==============================] - 1370s 31s/step - loss: 0.1667 - accuracy: 0.9550 - val_loss: 0.2058 - val_accuracy: 0.9600\n",
      "Epoch 11/30\n",
      "44/44 [==============================] - 1835s 42s/step - loss: 0.0898 - accuracy: 0.9669 - val_loss: 0.0666 - val_accuracy: 0.9600\n"
     ]
    }
   ],
   "source": [
    "history = model.fit(\n",
    "            train_generator,\n",
    "            steps_per_epoch=nb_train_samples // batch_size,\n",
    "            epochs=epochs,\n",
    "            validation_data=validation_generator,\n",
    "            validation_steps=nb_validation_samples // batch_size,\n",
    "            callbacks= callbacks_list)\n"
   ]
  },
  {
   "cell_type": "code",
   "execution_count": 20,
   "metadata": {},
   "outputs": [
    {
     "name": "stdout",
     "output_type": "stream",
     "text": [
      "INFO:tensorflow:Assets written to: saved_model/my_model_2122_reducelronplateau_bestweights/assets\n"
     ]
    }
   ],
   "source": [
    "# Save the entire model.\n",
    "!mkdir -p saved_model\n",
    "model.save('saved_model/sidedness')"
   ]
  },
  {
   "cell_type": "code",
   "execution_count": 21,
   "metadata": {
    "collapsed": true
   },
   "outputs": [
    {
     "name": "stdout",
     "output_type": "stream",
     "text": [
      "dict_keys(['loss', 'accuracy', 'val_loss', 'val_accuracy', 'lr'])\n"
     ]
    },
    {
     "data": {
      "image/png": "[encoded data removed]",
      "text/plain": [
       "<Figure size 432x288 with 1 Axes>"
      ]
     },
     "metadata": {
      "needs_background": "light"
     },
     "output_type": "display_data"
    }
   ],
   "source": [
    "import matplotlib.pyplot as plt\n",
    "\n",
    "print(history.history.keys())\n",
    "\n",
    "plt.figure()\n",
    "plt.plot(history.history['accuracy'], 'orange', label='Training accuracy')\n",
    "plt.plot(history.history['val_accuracy'], 'blue', label= 'Validation accuracy')\n",
    "plt.plot(history.history['loss'], 'red', label='Training loss')\n",
    "plt.plot(history.history['val_loss'], 'green', label='Validation loss')\n",
    "plt.legend()\n",
    "plt.show()\n"
   ]
  },
  {
   "cell_type": "code",
   "execution_count": 2,
   "metadata": {},
   "outputs": [],
   "source": [
    "new_model = keras.models.load_model('saved_model/my_model')"
   ]
  },
  {
   "cell_type": "code",
   "execution_count": 16,
   "metadata": {},
   "outputs": [],
   "source": [
    "model = new_model"
   ]
  },
  {
   "cell_type": "code",
   "execution_count": 2,
   "metadata": {
    "collapsed": true
   },
   "outputs": [
    {
     "name": "stdout",
     "output_type": "stream",
     "text": [
      "Found 855 images belonging to 2 classes.\n"
     ]
    }
   ],
   "source": [
    "# Evaluate the model on the test set\n",
    "img_width, img_height = 440, 522\n",
    "test_data_dir = '/Sidedness/Test/' \n",
    "batch_size = 1 # For this purpose, its best to evaluate one image at a time.\n",
    "\n",
    "test_datagen = ImageDataGenerator(rescale=1./255)\n",
    "test_generator = test_datagen.flow_from_directory(test_data_dir, \n",
    "target_size=(img_height, img_width), \n",
    "batch_size=batch_size, \n",
    "class_mode='binary')"
   ]
  },
  {
   "cell_type": "code",
   "execution_count": 27,
   "metadata": {
    "collapsed": true
   },
   "outputs": [
    {
     "name": "stdout",
     "output_type": "stream",
     "text": [
      "646/646 [==============================] - 134s 203ms/step - loss: 0.0297 - accuracy: 0.9954\n",
      "Saved model, accuracy: 99.54%\n"
     ]
    }
   ],
   "source": [
    "loss, acc = new_model.evaluate(test_generator)\n",
    "print('Saved model, accuracy: {:5.2f}%'.format(100 * acc))"
   ]
  }
 ],
 "metadata": {
  "kernelspec": {
   "display_name": "Python 3",
   "language": "python",
   "name": "python3"
  },
  "language_info": {
   "codemirror_mode": {
    "name": "ipython",
    "version": 3
   },
   "file_extension": ".py",
   "mimetype": "text/x-python",
   "name": "python",
   "nbconvert_exporter": "python",
   "pygments_lexer": "ipython3",
   "version": "3.8.8"
  }
 },
 "nbformat": 4,
 "nbformat_minor": 2
}
